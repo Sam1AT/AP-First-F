{
 "cells": [
  {
   "cell_type": "markdown",
   "id": "376a45c0",
   "metadata": {},
   "source": [
    "\n",
    "<div style=\"font-size: 20px;font-family:vazir\">\n",
    "     <b><h1 style=\"line-height:200%;font-family:vazir;color:#0099cc\" dir=\"rtl\" >پروژه اول </h1></b>\n",
    "        <br>\n",
    "     <div style=\"font-size: 18px; font-family:vazir\" dir=\"rtl\">برنامه زیر توسط سام احمدی زاده و مهرانا خالقی به منظور پروژه پایان ترم نوشته شده است</div>\n",
    "        <br>\n",
    "    <h1 style=\"font-size: 20\" dir=\"rtl\">بخش اول :     </h1>\n",
    "</div>\n"
   ]
  },
  {
   "cell_type": "code",
   "execution_count": null,
   "id": "3cb7b7ce",
   "metadata": {},
   "outputs": [],
   "source": []
  },
  {
   "cell_type": "code",
   "execution_count": null,
   "id": "5a640019",
   "metadata": {},
   "outputs": [],
   "source": []
  }
 ],
 "metadata": {
  "kernelspec": {
   "display_name": "Python 3 (ipykernel)",
   "language": "python",
   "name": "python3"
  },
  "language_info": {
   "codemirror_mode": {
    "name": "ipython",
    "version": 3
   },
   "file_extension": ".py",
   "mimetype": "text/x-python",
   "name": "python",
   "nbconvert_exporter": "python",
   "pygments_lexer": "ipython3",
   "version": "3.9.6"
  }
 },
 "nbformat": 4,
 "nbformat_minor": 5
}
