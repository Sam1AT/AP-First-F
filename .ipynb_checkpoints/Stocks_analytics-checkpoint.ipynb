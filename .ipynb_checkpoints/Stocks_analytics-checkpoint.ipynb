{
 "cells": [
  {
   "cell_type": "markdown",
   "id": "376a45c0",
   "metadata": {},
   "source": [
    "\n",
    "<div style=\"font-size: 20px;font-family:vazir\">\n",
    "     <b><h1 style=\"line-height:200%;font-family:vazir;color:#0099cc\" dir=\"rtl\" >پروژه اول </h1></b>\n",
    "        <br>\n",
    "     <div style=\"font-size: 18px; font-family:vazir\" dir=\"rtl\">برنامه زیر توسط سام احمدی زاده و مهرانا خالقی به منظور پروژه پایان ترم نوشته شده است</div>\n",
    "        <br>\n",
    "    <h1 style=\"font-size: 20\" dir=\"rtl\">بخش اول :     </h1>\n",
    "</div>\n"
   ]
  },
  {
   "cell_type": "code",
   "execution_count": 127,
   "id": "14ac900a",
   "metadata": {},
   "outputs": [],
   "source": [
    "import pandas as pd\n",
    "import numpy as np\n",
    "import matplotlib.pyplot as plt\n",
    "import datetime"
   ]
  },
  {
   "cell_type": "code",
   "execution_count": null,
   "id": "5a640019",
   "metadata": {},
   "outputs": [],
   "source": []
  },
  {
   "cell_type": "markdown",
   "id": "2127dd7d",
   "metadata": {},
   "source": [
    "<h1 style=\"font-size: 25;font-family:vazir\" dir=\"rtl\">بخش دوم :     </h1>\n"
   ]
  },
  {
   "cell_type": "code",
   "execution_count": 128,
   "id": "15abffb9",
   "metadata": {},
   "outputs": [
    {
     "data": {
      "text/html": [
       "<div>\n",
       "<style scoped>\n",
       "    .dataframe tbody tr th:only-of-type {\n",
       "        vertical-align: middle;\n",
       "    }\n",
       "\n",
       "    .dataframe tbody tr th {\n",
       "        vertical-align: top;\n",
       "    }\n",
       "\n",
       "    .dataframe thead th {\n",
       "        text-align: right;\n",
       "    }\n",
       "</style>\n",
       "<table border=\"1\" class=\"dataframe\">\n",
       "  <thead>\n",
       "    <tr style=\"text-align: right;\">\n",
       "      <th></th>\n",
       "      <th>Date</th>\n",
       "      <th>Symbol</th>\n",
       "      <th>Open</th>\n",
       "      <th>Volume</th>\n",
       "    </tr>\n",
       "  </thead>\n",
       "  <tbody>\n",
       "    <tr>\n",
       "      <th>15585</th>\n",
       "      <td>2022-05-02</td>\n",
       "      <td>AAPL</td>\n",
       "      <td>156.710007</td>\n",
       "      <td>123055300.0</td>\n",
       "    </tr>\n",
       "    <tr>\n",
       "      <th>15586</th>\n",
       "      <td>2022-05-03</td>\n",
       "      <td>AAPL</td>\n",
       "      <td>158.149994</td>\n",
       "      <td>88966500.0</td>\n",
       "    </tr>\n",
       "    <tr>\n",
       "      <th>15587</th>\n",
       "      <td>2022-05-04</td>\n",
       "      <td>AAPL</td>\n",
       "      <td>159.669998</td>\n",
       "      <td>108256500.0</td>\n",
       "    </tr>\n",
       "    <tr>\n",
       "      <th>15588</th>\n",
       "      <td>2022-05-05</td>\n",
       "      <td>AAPL</td>\n",
       "      <td>163.850006</td>\n",
       "      <td>130525300.0</td>\n",
       "    </tr>\n",
       "    <tr>\n",
       "      <th>15589</th>\n",
       "      <td>2022-05-06</td>\n",
       "      <td>AAPL</td>\n",
       "      <td>156.009995</td>\n",
       "      <td>116055700.0</td>\n",
       "    </tr>\n",
       "    <tr>\n",
       "      <th>15590</th>\n",
       "      <td>2022-05-09</td>\n",
       "      <td>AAPL</td>\n",
       "      <td>154.929993</td>\n",
       "      <td>131577900.0</td>\n",
       "    </tr>\n",
       "    <tr>\n",
       "      <th>15591</th>\n",
       "      <td>2022-05-10</td>\n",
       "      <td>AAPL</td>\n",
       "      <td>155.520004</td>\n",
       "      <td>115366700.0</td>\n",
       "    </tr>\n",
       "    <tr>\n",
       "      <th>15592</th>\n",
       "      <td>2022-05-11</td>\n",
       "      <td>AAPL</td>\n",
       "      <td>153.500000</td>\n",
       "      <td>142689800.0</td>\n",
       "    </tr>\n",
       "    <tr>\n",
       "      <th>15593</th>\n",
       "      <td>2022-05-12</td>\n",
       "      <td>AAPL</td>\n",
       "      <td>142.770004</td>\n",
       "      <td>182602000.0</td>\n",
       "    </tr>\n",
       "    <tr>\n",
       "      <th>15594</th>\n",
       "      <td>2022-05-13</td>\n",
       "      <td>AAPL</td>\n",
       "      <td>144.589996</td>\n",
       "      <td>113787000.0</td>\n",
       "    </tr>\n",
       "  </tbody>\n",
       "</table>\n",
       "</div>"
      ],
      "text/plain": [
       "             Date Symbol        Open       Volume\n",
       "15585  2022-05-02   AAPL  156.710007  123055300.0\n",
       "15586  2022-05-03   AAPL  158.149994   88966500.0\n",
       "15587  2022-05-04   AAPL  159.669998  108256500.0\n",
       "15588  2022-05-05   AAPL  163.850006  130525300.0\n",
       "15589  2022-05-06   AAPL  156.009995  116055700.0\n",
       "15590  2022-05-09   AAPL  154.929993  131577900.0\n",
       "15591  2022-05-10   AAPL  155.520004  115366700.0\n",
       "15592  2022-05-11   AAPL  153.500000  142689800.0\n",
       "15593  2022-05-12   AAPL  142.770004  182602000.0\n",
       "15594  2022-05-13   AAPL  144.589996  113787000.0"
      ]
     },
     "execution_count": 128,
     "metadata": {},
     "output_type": "execute_result"
    }
   ],
   "source": [
    "stock_market_data = pd.read_csv('stock_market_data.csv') #reading the init data of stocks\n",
    "stock_market_data.head(10) \n",
    "stock_market_data.tail(10)"
   ]
  },
  {
   "cell_type": "code",
   "execution_count": 210,
   "id": "9128654f",
   "metadata": {},
   "outputs": [],
   "source": [
    "users = []\n",
    "class User():\n",
    "    def __init__(self , n , fn , i , birth, balance):\n",
    "        self.name = n\n",
    "        self.familyName = fn\n",
    "        self.id = i\n",
    "        self.birthday = birth\n",
    "        self.balance = balance\n",
    "        self.history = []\n",
    "        self.stock_list = {'AMZN' : 0, 'FB' : 0, 'TSLA' : 0 , 'GOOGL' : 0, 'AAPL' : 0}\n",
    "    def show_history(self):\n",
    "        return pd.DataFrame(self.history)\n",
    "    \n",
    "    def show_assets(self):\n",
    "        tmp = []\n",
    "        for k,v in self.stock_list.items():\n",
    "            stock_price = stock_market_data[stock_market_data['Symbol'] == k]\n",
    "            stock_price = stock_price[stock_market_data['Date'] == '2022-05-13']['Open'].values[0]\n",
    "            tmp.append(v * stock_price)\n",
    "        tmp.append(self.balance)\n",
    "        plt.legend()\n",
    "        plt.pie(tmp  , labels=['AMZN' , 'FB' , 'TSLA'  , 'GOOGL' , 'AAPL' , 'Balance'])\n",
    "    \n",
    "    def show_profit():\n",
    "        total = 0\n",
    "        for row in self.history:\n",
    "            if row['action'] == 'sell':\n",
    "                total += row['price per vol'] * row['vol']\n",
    "            else:\n",
    "                total -= row\n",
    "    def show_stocks(self):\n",
    "        return pd.DataFrame({'Symbol' : self.stock_list.keys() , 'Volume' : self.stock_list.values()})\n",
    "        "
   ]
  },
  {
   "cell_type": "markdown",
   "id": "a7f922b7",
   "metadata": {},
   "source": [
    "<div style=\"font-family:vazir\">\n",
    "    <h1 style=\"font-size: 10;color:#009955\" dir=\"rtl\"> ایجاد کاربر جدید    </h1>    \n",
    "    <br>\n",
    "     <div style=\"font-size: 18px; font-family:vazir\" dir=\"rtl\">برای ایجاد کاربر جدید مشخصات خود را در کد زیر نوشته و آن را ران کنید</div>\n",
    "    <div style=\"font-size: 18px; font-family:vazir\" dir=\"ltr\">Valid input format: (name , Family name , id , birth , init_balance)</div>\n",
    "        <br>\n",
    "    \n",
    "</div>"
   ]
  },
  {
   "cell_type": "code",
   "execution_count": 211,
   "id": "aeaee3aa",
   "metadata": {},
   "outputs": [
    {
     "data": {
      "text/plain": [
       "[<__main__.User at 0x126c00730>]"
      ]
     },
     "execution_count": 211,
     "metadata": {},
     "output_type": "execute_result"
    }
   ],
   "source": [
    "users.append(User('sam' , 'asfjkhsdhjkf' , '04412121212' , '2004-5-10' , 100000))\n",
    "users"
   ]
  },
  {
   "cell_type": "markdown",
   "id": "8879665f",
   "metadata": {},
   "source": [
    "\n",
    "<div style=\"font-size: 18px;font-family:vazir\">\n",
    "     <b><h1 style=\"line-height:200%;font-family:vazir;color:#000000\" dir=\"rtl\" >خرید سهم :  </h1></b>\n",
    "</div>\n"
   ]
  },
  {
   "cell_type": "code",
   "execution_count": 216,
   "id": "2b6a79f6",
   "metadata": {},
   "outputs": [
    {
     "name": "stdout",
     "output_type": "stream",
     "text": [
      "AMZN bought with 136.25 and  5 vol\n",
      "[{'date': '2009-12-31', 'Symbol': 'AMZN', 'volume': 5, 'price per vol': 136.25, 'action': 'buy'}, {'date': '2022-05-13', 'Symbol': 'AMZN', 'volume': 5, 'price per vol': 2181.3798828125, 'action': 'sell'}, {'date': '2009-12-31', 'Symbol': 'AMZN', 'volume': 5, 'price per vol': 136.25, 'action': 'buy'}, {'date': '2009-12-31', 'Symbol': 'AMZN', 'volume': 5, 'price per vol': 136.25, 'action': 'buy'}]\n"
     ]
    },
    {
     "name": "stderr",
     "output_type": "stream",
     "text": [
      "/var/folders/_t/vnkvxm1172s08ml2bb4djxkm0000gn/T/ipykernel_6705/610505987.py:4: UserWarning: Boolean Series key will be reindexed to match DataFrame index.\n",
      "  stock_price = stock_price[stock_market_data['Date'] == date]['Open'].values[0]\n"
     ]
    },
    {
     "data": {
      "text/plain": [
       "{'AMZN': 10, 'FB': 0, 'TSLA': 0, 'GOOGL': 0, 'AAPL': 0}"
      ]
     },
     "execution_count": 216,
     "metadata": {},
     "output_type": "execute_result"
    }
   ],
   "source": [
    "def buy_stock(user , stock , date , vol):\n",
    "    if stock in pd.unique(stock_market_data['Symbol']):\n",
    "        stock_price = stock_market_data[stock_market_data['Symbol'] == stock]\n",
    "        stock_price = stock_price[stock_market_data['Date'] == date]['Open'].values[0]\n",
    "        if user.balance >= stock_price * vol:\n",
    "            user.balance -= stock_price * vol\n",
    "            user.history.append({'date' : date , 'Symbol' : stock , 'volume' : vol , 'price per vol' : stock_price , 'action' : 'buy' })\n",
    "            user.stock_list[stock] +=  vol\n",
    "            print(stock , 'bought with' , stock_price , 'and ' , vol , 'vol')\n",
    "        else:\n",
    "            print('not enough balance ! ! !')\n",
    "    else:\n",
    "        print('This Symbol does not exists ! ! !')\n",
    "buy_stock(users[0] , 'AMZN' , '2009-12-31' , 5 )\n",
    "print(users[0].history)\n",
    "users[0].stock_list"
   ]
  },
  {
   "cell_type": "code",
   "execution_count": 213,
   "id": "95350832",
   "metadata": {},
   "outputs": [
    {
     "name": "stdout",
     "output_type": "stream",
     "text": [
      "AMZN sold with 2181.3798828125 and  5 vol\n",
      "[{'date': '2009-12-31', 'Symbol': 'AMZN', 'volume': 5, 'price per vol': 136.25, 'action': 'buy'}, {'date': '2022-05-13', 'Symbol': 'AMZN', 'volume': 5, 'price per vol': 2181.3798828125, 'action': 'sell'}]\n"
     ]
    },
    {
     "name": "stderr",
     "output_type": "stream",
     "text": [
      "/var/folders/_t/vnkvxm1172s08ml2bb4djxkm0000gn/T/ipykernel_6705/655395705.py:4: UserWarning: Boolean Series key will be reindexed to match DataFrame index.\n",
      "  stock_price = stock_price[stock_market_data['Date'] == '2022-05-13']['Open'].values[0]\n"
     ]
    },
    {
     "data": {
      "text/plain": [
       "{'AMZN': 0, 'FB': 0, 'TSLA': 0, 'GOOGL': 0, 'AAPL': 0}"
      ]
     },
     "execution_count": 213,
     "metadata": {},
     "output_type": "execute_result"
    }
   ],
   "source": [
    "def sell_stock(user , stock , vol):\n",
    "    if stock in pd.unique(stock_market_data['Symbol']):\n",
    "        stock_price = stock_market_data[stock_market_data['Symbol'] == stock]\n",
    "        stock_price = stock_price[stock_market_data['Date'] == '2022-05-13']['Open'].values[0]\n",
    "        if user.stock_list[stock] >= vol:\n",
    "            user.stock_list[stock] -=  vol\n",
    "            user.balance += stock_price * vol\n",
    "            user.history.append({'date' : '2022-05-13' , 'Symbol' : stock , 'volume' : vol , 'price per vol' : stock_price , 'action' : 'sell' })\n",
    "            print(stock , 'sold with' , stock_price , 'and ' , vol , 'vol')\n",
    "        else:\n",
    "            print('not enough volume ! ! !')\n",
    "    else:\n",
    "        print('This Symbol does not exists ! ! !')\n",
    "sell_stock(users[0] , 'AMZN' , 5 )\n",
    "print(users[0].history)\n",
    "users[0].stock_list\n"
   ]
  },
  {
   "cell_type": "code",
   "execution_count": 217,
   "id": "b5bf3c05",
   "metadata": {},
   "outputs": [
    {
     "data": {
      "text/html": [
       "<div>\n",
       "<style scoped>\n",
       "    .dataframe tbody tr th:only-of-type {\n",
       "        vertical-align: middle;\n",
       "    }\n",
       "\n",
       "    .dataframe tbody tr th {\n",
       "        vertical-align: top;\n",
       "    }\n",
       "\n",
       "    .dataframe thead th {\n",
       "        text-align: right;\n",
       "    }\n",
       "</style>\n",
       "<table border=\"1\" class=\"dataframe\">\n",
       "  <thead>\n",
       "    <tr style=\"text-align: right;\">\n",
       "      <th></th>\n",
       "      <th>Symbol</th>\n",
       "      <th>Volume</th>\n",
       "    </tr>\n",
       "  </thead>\n",
       "  <tbody>\n",
       "    <tr>\n",
       "      <th>0</th>\n",
       "      <td>AMZN</td>\n",
       "      <td>10</td>\n",
       "    </tr>\n",
       "    <tr>\n",
       "      <th>1</th>\n",
       "      <td>FB</td>\n",
       "      <td>0</td>\n",
       "    </tr>\n",
       "    <tr>\n",
       "      <th>2</th>\n",
       "      <td>TSLA</td>\n",
       "      <td>0</td>\n",
       "    </tr>\n",
       "    <tr>\n",
       "      <th>3</th>\n",
       "      <td>GOOGL</td>\n",
       "      <td>0</td>\n",
       "    </tr>\n",
       "    <tr>\n",
       "      <th>4</th>\n",
       "      <td>AAPL</td>\n",
       "      <td>0</td>\n",
       "    </tr>\n",
       "  </tbody>\n",
       "</table>\n",
       "</div>"
      ],
      "text/plain": [
       "  Symbol  Volume\n",
       "0   AMZN      10\n",
       "1     FB       0\n",
       "2   TSLA       0\n",
       "3  GOOGL       0\n",
       "4   AAPL       0"
      ]
     },
     "execution_count": 217,
     "metadata": {},
     "output_type": "execute_result"
    }
   ],
   "source": [
    "users[0].show_stocks()"
   ]
  },
  {
   "cell_type": "code",
   "execution_count": 203,
   "id": "e26e4ebc",
   "metadata": {},
   "outputs": [
    {
     "data": {
      "text/html": [
       "<div>\n",
       "<style scoped>\n",
       "    .dataframe tbody tr th:only-of-type {\n",
       "        vertical-align: middle;\n",
       "    }\n",
       "\n",
       "    .dataframe tbody tr th {\n",
       "        vertical-align: top;\n",
       "    }\n",
       "\n",
       "    .dataframe thead th {\n",
       "        text-align: right;\n",
       "    }\n",
       "</style>\n",
       "<table border=\"1\" class=\"dataframe\">\n",
       "  <thead>\n",
       "    <tr style=\"text-align: right;\">\n",
       "      <th></th>\n",
       "    </tr>\n",
       "  </thead>\n",
       "  <tbody>\n",
       "    <tr>\n",
       "      <th>0</th>\n",
       "    </tr>\n",
       "  </tbody>\n",
       "</table>\n",
       "</div>"
      ],
      "text/plain": [
       "Empty DataFrame\n",
       "Columns: []\n",
       "Index: [0]"
      ]
     },
     "execution_count": 203,
     "metadata": {},
     "output_type": "execute_result"
    }
   ],
   "source": []
  },
  {
   "cell_type": "code",
   "execution_count": null,
   "id": "85ad460e",
   "metadata": {},
   "outputs": [],
   "source": []
  }
 ],
 "metadata": {
  "kernelspec": {
   "display_name": "Python 3 (ipykernel)",
   "language": "python",
   "name": "python3"
  },
  "language_info": {
   "codemirror_mode": {
    "name": "ipython",
    "version": 3
   },
   "file_extension": ".py",
   "mimetype": "text/x-python",
   "name": "python",
   "nbconvert_exporter": "python",
   "pygments_lexer": "ipython3",
   "version": "3.9.6"
  }
 },
 "nbformat": 4,
 "nbformat_minor": 5
}
