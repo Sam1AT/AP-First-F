{
 "cells": [
  {
   "cell_type": "markdown",
   "id": "376a45c0",
   "metadata": {},
   "source": [
    "\n",
    "<div style=\"font-size: 20px;font-family:vazir\">\n",
    "     <b><h1 style=\"line-height:200%;font-family:vazir;color:#0099cc\" dir=\"rtl\" >پروژه اول </h1></b>\n",
    "        <br>\n",
    "     <div style=\"font-size: 18px; font-family:vazir\" dir=\"rtl\">برنامه زیر توسط سام احمدی زاده و مهرانا خالقی به منظور پروژه پایان ترم نوشته شده است</div>\n",
    "        <br>\n",
    "    <h1 style=\"font-size: 20\" dir=\"rtl\">بخش اول :     </h1>\n",
    "</div>\n"
   ]
  },
  {
   "cell_type": "code",
   "execution_count": 15,
   "id": "14ac900a",
   "metadata": {},
   "outputs": [],
   "source": [
    "import pandas as pd\n",
    "import numpy as np\n",
    "import matplotlib.pyplot as plt"
   ]
  },
  {
   "cell_type": "code",
   "execution_count": 24,
   "id": "3cb7b7ce",
   "metadata": {},
   "outputs": [],
   "source": [
    "users = []\n",
    "class User():\n",
    "    def __init__(self , n , fn , i , birth, balance):\n",
    "        self.name = n\n",
    "        self.familyName = fn\n",
    "        self.id = i\n",
    "        self.birthday = birth\n",
    "        self.balance = balance\n",
    "        self.stocks ={}"
   ]
  },
  {
   "cell_type": "markdown",
   "id": "2eb7f3a1",
   "metadata": {},
   "source": [
    "<div style=\"font-family:vazir\">\n",
    "    <h1 style=\"font-size: 10;color:#009955\" dir=\"rtl\"> ایجاد کاربر جدید    </h1>    \n",
    "    <br>\n",
    "     <div style=\"font-size: 18px; font-family:vazir\" dir=\"rtl\">برای ایجاد کاربر جدید مشخصات خود را در کد زیر نوشته و آن را ران کنید</div>\n",
    "    <div style=\"font-size: 18px; font-family:vazir\" dir=\"ltr\">Valid input format: (name , Family name , id , birth , init_balance)</div>\n",
    "        <br>\n",
    "    \n",
    "</div>"
   ]
  },
  {
   "cell_type": "code",
   "execution_count": 27,
   "id": "2d68c8d1",
   "metadata": {},
   "outputs": [
    {
     "data": {
      "text/plain": [
       "{}"
      ]
     },
     "execution_count": 27,
     "metadata": {},
     "output_type": "execute_result"
    }
   ],
   "source": [
    "users.append(User('sam' , 'asfjkhsdhjkf' , '04412121212' , '2004-5-10' , 100000))\n",
    "users[0].stocks"
   ]
  },
  {
   "cell_type": "code",
   "execution_count": null,
   "id": "5a640019",
   "metadata": {},
   "outputs": [],
   "source": []
  },
  {
   "cell_type": "markdown",
   "id": "52ac7ee0",
   "metadata": {},
   "source": [
    "<h1 style=\"font-size: 25;font-family:vazir\" dir=\"rtl\">بخش دوم :     </h1>\n"
   ]
  },
  {
   "cell_type": "code",
   "execution_count": 23,
   "id": "2719712c",
   "metadata": {},
   "outputs": [
    {
     "data": {
      "text/html": [
       "<div>\n",
       "<style scoped>\n",
       "    .dataframe tbody tr th:only-of-type {\n",
       "        vertical-align: middle;\n",
       "    }\n",
       "\n",
       "    .dataframe tbody tr th {\n",
       "        vertical-align: top;\n",
       "    }\n",
       "\n",
       "    .dataframe thead th {\n",
       "        text-align: right;\n",
       "    }\n",
       "</style>\n",
       "<table border=\"1\" class=\"dataframe\">\n",
       "  <thead>\n",
       "    <tr style=\"text-align: right;\">\n",
       "      <th></th>\n",
       "      <th>Date</th>\n",
       "      <th>Symbol</th>\n",
       "      <th>Open</th>\n",
       "      <th>Volume</th>\n",
       "    </tr>\n",
       "  </thead>\n",
       "  <tbody>\n",
       "    <tr>\n",
       "      <th>0</th>\n",
       "      <td>2009-12-31</td>\n",
       "      <td>AMZN</td>\n",
       "      <td>136.250000</td>\n",
       "      <td>7599900.0</td>\n",
       "    </tr>\n",
       "    <tr>\n",
       "      <th>1</th>\n",
       "      <td>2010-01-04</td>\n",
       "      <td>AMZN</td>\n",
       "      <td>136.250000</td>\n",
       "      <td>7599900.0</td>\n",
       "    </tr>\n",
       "    <tr>\n",
       "      <th>2</th>\n",
       "      <td>2010-01-05</td>\n",
       "      <td>AMZN</td>\n",
       "      <td>133.429993</td>\n",
       "      <td>8851900.0</td>\n",
       "    </tr>\n",
       "    <tr>\n",
       "      <th>3</th>\n",
       "      <td>2010-01-06</td>\n",
       "      <td>AMZN</td>\n",
       "      <td>134.600006</td>\n",
       "      <td>7178800.0</td>\n",
       "    </tr>\n",
       "    <tr>\n",
       "      <th>4</th>\n",
       "      <td>2010-01-07</td>\n",
       "      <td>AMZN</td>\n",
       "      <td>132.009995</td>\n",
       "      <td>11030200.0</td>\n",
       "    </tr>\n",
       "    <tr>\n",
       "      <th>5</th>\n",
       "      <td>2010-01-08</td>\n",
       "      <td>AMZN</td>\n",
       "      <td>130.559998</td>\n",
       "      <td>9830500.0</td>\n",
       "    </tr>\n",
       "    <tr>\n",
       "      <th>6</th>\n",
       "      <td>2010-01-11</td>\n",
       "      <td>AMZN</td>\n",
       "      <td>132.619995</td>\n",
       "      <td>8779400.0</td>\n",
       "    </tr>\n",
       "    <tr>\n",
       "      <th>7</th>\n",
       "      <td>2010-01-12</td>\n",
       "      <td>AMZN</td>\n",
       "      <td>128.990005</td>\n",
       "      <td>9096300.0</td>\n",
       "    </tr>\n",
       "    <tr>\n",
       "      <th>8</th>\n",
       "      <td>2010-01-13</td>\n",
       "      <td>AMZN</td>\n",
       "      <td>127.900002</td>\n",
       "      <td>10723200.0</td>\n",
       "    </tr>\n",
       "    <tr>\n",
       "      <th>9</th>\n",
       "      <td>2010-01-14</td>\n",
       "      <td>AMZN</td>\n",
       "      <td>129.139999</td>\n",
       "      <td>9774900.0</td>\n",
       "    </tr>\n",
       "  </tbody>\n",
       "</table>\n",
       "</div>"
      ],
      "text/plain": [
       "         Date Symbol        Open      Volume\n",
       "0  2009-12-31   AMZN  136.250000   7599900.0\n",
       "1  2010-01-04   AMZN  136.250000   7599900.0\n",
       "2  2010-01-05   AMZN  133.429993   8851900.0\n",
       "3  2010-01-06   AMZN  134.600006   7178800.0\n",
       "4  2010-01-07   AMZN  132.009995  11030200.0\n",
       "5  2010-01-08   AMZN  130.559998   9830500.0\n",
       "6  2010-01-11   AMZN  132.619995   8779400.0\n",
       "7  2010-01-12   AMZN  128.990005   9096300.0\n",
       "8  2010-01-13   AMZN  127.900002  10723200.0\n",
       "9  2010-01-14   AMZN  129.139999   9774900.0"
      ]
     },
     "execution_count": 23,
     "metadata": {},
     "output_type": "execute_result"
    }
   ],
   "source": [
    "stock_market_data = pd.read_csv('stock_market_data.csv') #reading the init data of stocks\n",
    "stock_market_data.head(10)"
   ]
  },
  {
   "cell_type": "code",
   "execution_count": null,
   "id": "1df361bf",
   "metadata": {},
   "outputs": [],
   "source": []
  }
 ],
 "metadata": {
  "kernelspec": {
   "display_name": "Python 3 (ipykernel)",
   "language": "python",
   "name": "python3"
  },
  "language_info": {
   "codemirror_mode": {
    "name": "ipython",
    "version": 3
   },
   "file_extension": ".py",
   "mimetype": "text/x-python",
   "name": "python",
   "nbconvert_exporter": "python",
   "pygments_lexer": "ipython3",
   "version": "3.9.6"
  }
 },
 "nbformat": 4,
 "nbformat_minor": 5
}
